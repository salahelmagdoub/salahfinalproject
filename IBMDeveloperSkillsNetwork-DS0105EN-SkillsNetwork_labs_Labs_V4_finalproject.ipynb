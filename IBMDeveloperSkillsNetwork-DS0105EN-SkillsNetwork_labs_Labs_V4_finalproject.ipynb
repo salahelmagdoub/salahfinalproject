{
  "metadata": {
    "language_info": {
      "name": ""
    },
    "kernelspec": {
      "name": "",
      "display_name": ""
    }
  },
  "nbformat_minor": 4,
  "nbformat": 4,
  "cells": [
    {
      "cell_type": "markdown",
      "source": "## final project\nby salah elmagdoub\n",
      "metadata": {}
    },
    {
      "cell_type": "markdown",
      "source": "## introduction : \ni have learned in this course \noverview of data science tools\nlanguages of data science\nlibraries , APIs , Datasets and models\njupyter project\nRStudio and GitHub\nand now i do my final project hope i do it in right way",
      "metadata": {}
    },
    {
      "cell_type": "markdown",
      "source": "## data science languages\nPython, R, SQL, Scala, Java, C++, Julia, JavaScript, PHP, Go, Ruby and Visual Basic",
      "metadata": {}
    },
    {
      "cell_type": "markdown",
      "source": "## data science libriaies\nPandas \nNumPy\nMatplotlib package\nSeaborn\nScikit-learn\nKeras\nTensorFlow\nPytorch\nApache Spark\nVegas\nbig DL\nggplot2",
      "metadata": {}
    },
    {
      "cell_type": "markdown",
      "source": "## data science tools\n1 Data managment tools are : MySQL, PostgreSQL, MongoDB, Apache CouchDB, Apache Cassandra, Hadoop File system, Ceph and elastic search\n\n2 Data integeration and transformation tools are : Apache Airflow, Kubeflow, Apache Kafka, Apache Nifi, Apache SparkSQL and NodeRED\n\n3 Data visualization tools are : Pixi Dust, Hue, Kibana and Apache superset\n\n4 Modle deployment tools are : Apache PredictionalO, Seldon, Kubernetes, Redhat OpenShift, Mleap, TensorFlow service, TenserFlow lite and TenserFlow.JS\n\n5 Modle monitoring tools are : ModleDB, Prometheus, IBM AI Fairness 360, IBM Adversarial Robustness 360 ToolBox and IBM AI Explainability 360\n\n6 Code asset managment tools are : Git, GitHub, GitLab and Bitbucket\n\n7 Data asset managment tools are : Apache Atlas, ODPi Egeria and Kylo\n",
      "metadata": {}
    },
    {
      "cell_type": "markdown",
      "source": "## arithmetic expression examples\n5--\n(4+6)--\n(21-12)--",
      "metadata": {}
    },
    {
      "cell_type": "code",
      "source": "a = 2\nb = 3\nc = 4\n\nresult = a * b + c\n\nprint(result)",
      "metadata": {},
      "execution_count": null,
      "outputs": []
    },
    {
      "cell_type": "code",
      "source": "minutes = 145\n\nhours = minutes // 60\nminutes = minutes % 60\n\nprint(f\"{hours} hours and {minutes} minutes\")",
      "metadata": {},
      "execution_count": null,
      "outputs": []
    },
    {
      "cell_type": "markdown",
      "source": "## opejctives\nidentify the languages that we will learn to be useful for the data scientist's\nidentify the tools for data scientist's\nidentify the libiraries that we can use\nidentify and be familier with jupyter notebooks and jupyterlab\nidentify RStudio and GitHub",
      "metadata": {}
    },
    {
      "cell_type": "markdown",
      "source": "## this course is provided by IBM \nTaught by : Aije Egwaikhide, Senior Data Scientist\nTaught by : Svetlana Levitan, Senior Developer\nTaught by : Romeo Kienzler, Chief Data Scientist",
      "metadata": {}
    }
  ]
}